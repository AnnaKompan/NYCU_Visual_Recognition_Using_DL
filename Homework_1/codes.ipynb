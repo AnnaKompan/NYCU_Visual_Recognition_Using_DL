{
  "cells": [
    {
      "cell_type": "code",
      "execution_count": 1,
      "metadata": {
        "id": "Dgu_9KIHA3dF"
      },
      "outputs": [],
      "source": [
        "import torch\n",
        "import torch.nn as nn\n",
        "import torch.optim as optim\n",
        "\n",
        "from torchvision import datasets, transforms, models\n",
        "from torch.utils.data import Dataset, DataLoader\n",
        "from torchvision.datasets import ImageFolder\n",
        "\n",
        "import matplotlib.pyplot as plt\n",
        "import pandas as pd\n",
        "from PIL import Image\n",
        "import os"
      ]
    },
    {
      "cell_type": "code",
      "execution_count": 2,
      "metadata": {
        "id": "08xVdqvFhMvH"
      },
      "outputs": [],
      "source": [
        "from google.colab import drive\n",
        "drive.mount('/content/drive')\n",
        "\n",
        "# Copy data from drive to collab\n",
        "!cp -r /content/drive/MyDrive/data /content/"
      ]
    },
    {
      "cell_type": "code",
      "execution_count": 3,
      "metadata": {
        "id": "PlfSu38PvR0r"
      },
      "outputs": [],
      "source": [
        "#update dir to local copy\n",
        "data_dir = \"/content/data\""
      ]
    },
    {
      "cell_type": "code",
      "execution_count": 4,
      "metadata": {
        "colab": {
          "base_uri": "https://localhost:8080/"
        },
        "id": "OJR0g9q9297k",
        "outputId": "32aee76f-d57f-457a-aabe-079820032219"
      },
      "outputs": [
        {
          "name": "stdout",
          "output_type": "stream",
          "text": [
            "Using device: cuda\n"
          ]
        }
      ],
      "source": [
        "device = torch.device(\"cuda\" if torch.cuda.is_available() else \"cpu\")\n",
        "print(f\"Using device: {device}\")"
      ]
    },
    {
      "cell_type": "code",
      "execution_count": 5,
      "metadata": {
        "colab": {
          "base_uri": "https://localhost:8080/"
        },
        "id": "JOYi5aJhvsee",
        "outputId": "fd06d987-bc55-4af2-ec88-db1ec997e531"
      },
      "outputs": [
        {
          "name": "stdout",
          "output_type": "stream",
          "text": [
            "Your runtime has 89.6 gigabytes of available RAM\n",
            "\n",
            "You are using a high-RAM runtime!\n"
          ]
        }
      ],
      "source": [
        "from psutil import virtual_memory\n",
        "ram_gb = virtual_memory().total / 1e9\n",
        "print('Your runtime has {:.1f} gigabytes of available RAM\\n'.format(ram_gb))\n",
        "\n",
        "if ram_gb < 20:\n",
        "  print('Not using a high-RAM runtime')\n",
        "else:\n",
        "  print('You are using a high-RAM runtime!')"
      ]
    },
    {
      "cell_type": "code",
      "execution_count": 6,
      "metadata": {
        "id": "s9bLAEWjqnaG"
      },
      "outputs": [],
      "source": [
        "train_dir = f\"{data_dir}/train\"\n",
        "val_dir = f\"{data_dir}/val\""
      ]
    },
    {
      "cell_type": "code",
      "execution_count": null,
      "metadata": {
        "id": "WHAAzjKbHy_X"
      },
      "outputs": [],
      "source": [
        "# Transformations for train and validation data\n",
        "transform = {\n",
        "    \"train\": transforms.Compose([\n",
        "        transforms.RandomHorizontalFlip(p=0.5),\n",
        "        transforms.Resize(256),\n",
        "        transforms.CenterCrop((256, 256)),\n",
        "        transforms.ToTensor(),\n",
        "        transforms.Normalize(mean=[0.5, 0.5, 0.5], std=[0.5, 0.5, 0.5])\n",
        "    ]),\n",
        "    \"val\": transforms.Compose([\n",
        "        transforms.RandomHorizontalFlip(p=0.5),\n",
        "        transforms.Resize(256),\n",
        "        transforms.CenterCrop((256, 256)),\n",
        "        transforms.ToTensor(),\n",
        "        transforms.Normalize(mean=[0.5, 0.5, 0.5], std=[0.5, 0.5, 0.5])\n",
        "    ])\n",
        "}"
      ]
    },
    {
      "cell_type": "code",
      "execution_count": 8,
      "metadata": {
        "colab": {
          "base_uri": "https://localhost:8080/"
        },
        "id": "7_xVMedVynB6",
        "outputId": "14437135-3e7a-428c-a6df-4f8e8e6f98eb"
      },
      "outputs": [
        {
          "name": "stdout",
          "output_type": "stream",
          "text": [
            "Train class-to-idx mapping: {'0': 0, '1': 1, '2': 2, '3': 3, '4': 4, '5': 5, '6': 6, '7': 7, '8': 8, '9': 9, '10': 10, '11': 11, '12': 12, '13': 13, '14': 14, '15': 15, '16': 16, '17': 17, '18': 18, '19': 19, '20': 20, '21': 21, '22': 22, '23': 23, '24': 24, '25': 25, '26': 26, '27': 27, '28': 28, '29': 29, '30': 30, '31': 31, '32': 32, '33': 33, '34': 34, '35': 35, '36': 36, '37': 37, '38': 38, '39': 39, '40': 40, '41': 41, '42': 42, '43': 43, '44': 44, '45': 45, '46': 46, '47': 47, '48': 48, '49': 49, '50': 50, '51': 51, '52': 52, '53': 53, '54': 54, '55': 55, '56': 56, '57': 57, '58': 58, '59': 59, '60': 60, '61': 61, '62': 62, '63': 63, '64': 64, '65': 65, '66': 66, '67': 67, '68': 68, '69': 69, '70': 70, '71': 71, '72': 72, '73': 73, '74': 74, '75': 75, '76': 76, '77': 77, '78': 78, '79': 79, '80': 80, '81': 81, '82': 82, '83': 83, '84': 84, '85': 85, '86': 86, '87': 87, '88': 88, '89': 89, '90': 90, '91': 91, '92': 92, '93': 93, '94': 94, '95': 95, '96': 96, '97': 97, '98': 98, '99': 99}\n",
            "Val class-to-idx mapping: {'0': 0, '1': 1, '2': 2, '3': 3, '4': 4, '5': 5, '6': 6, '7': 7, '8': 8, '9': 9, '10': 10, '11': 11, '12': 12, '13': 13, '14': 14, '15': 15, '16': 16, '17': 17, '18': 18, '19': 19, '20': 20, '21': 21, '22': 22, '23': 23, '24': 24, '25': 25, '26': 26, '27': 27, '28': 28, '29': 29, '30': 30, '31': 31, '32': 32, '33': 33, '34': 34, '35': 35, '36': 36, '37': 37, '38': 38, '39': 39, '40': 40, '41': 41, '42': 42, '43': 43, '44': 44, '45': 45, '46': 46, '47': 47, '48': 48, '49': 49, '50': 50, '51': 51, '52': 52, '53': 53, '54': 54, '55': 55, '56': 56, '57': 57, '58': 58, '59': 59, '60': 60, '61': 61, '62': 62, '63': 63, '64': 64, '65': 65, '66': 66, '67': 67, '68': 68, '69': 69, '70': 70, '71': 71, '72': 72, '73': 73, '74': 74, '75': 75, '76': 76, '77': 77, '78': 78, '79': 79, '80': 80, '81': 81, '82': 82, '83': 83, '84': 84, '85': 85, '86': 86, '87': 87, '88': 88, '89': 89, '90': 90, '91': 91, '92': 92, '93': 93, '94': 94, '95': 95, '96': 96, '97': 97, '98': 98, '99': 99}\n"
          ]
        }
      ],
      "source": [
        "# Sort numerically\n",
        "def sorted_class_to_idx(folder_path):\n",
        "    class_names = sorted(os.listdir(folder_path), key=lambda x: int(x))\n",
        "    return {class_name: i for i, class_name in enumerate(class_names)}\n",
        "\n",
        "train_class_to_idx = sorted_class_to_idx(train_dir)\n",
        "val_class_to_idx = sorted_class_to_idx(val_dir)\n",
        "\n",
        "train_dataset = datasets.ImageFolder(root=train_dir, transform=transform[\"train\"])\n",
        "val_dataset = datasets.ImageFolder(root=val_dir, transform=transform[\"val\"])\n",
        "\n",
        "train_dataset.class_to_idx = train_class_to_idx\n",
        "val_dataset.class_to_idx = val_class_to_idx\n",
        "\n",
        "print(\"Train class-to-idx mapping:\", train_dataset.class_to_idx)\n",
        "print(\"Val class-to-idx mapping:\", val_dataset.class_to_idx)"
      ]
    },
    {
      "cell_type": "code",
      "execution_count": 9,
      "metadata": {
        "id": "4nKWOUBbIY1M"
      },
      "outputs": [],
      "source": [
        "# Data loaders\n",
        "batch_size = 32\n",
        "\n",
        "train_loader = DataLoader(train_dataset, batch_size=batch_size, shuffle=True, num_workers=4, pin_memory=True)\n",
        "val_loader = DataLoader(val_dataset, batch_size=batch_size, shuffle=False, num_workers=4, pin_memory=True)"
      ]
    },
    {
      "cell_type": "code",
      "execution_count": 10,
      "metadata": {
        "colab": {
          "base_uri": "https://localhost:8080/"
        },
        "id": "ItV87cJWaJ2N",
        "outputId": "d8a4e66c-09fe-47d5-e883-677c5ee0c834"
      },
      "outputs": [
        {
          "name": "stdout",
          "output_type": "stream",
          "text": [
            "{'0': 0, '1': 1, '2': 2, '3': 3, '4': 4, '5': 5, '6': 6, '7': 7, '8': 8, '9': 9, '10': 10, '11': 11, '12': 12, '13': 13, '14': 14, '15': 15, '16': 16, '17': 17, '18': 18, '19': 19, '20': 20, '21': 21, '22': 22, '23': 23, '24': 24, '25': 25, '26': 26, '27': 27, '28': 28, '29': 29, '30': 30, '31': 31, '32': 32, '33': 33, '34': 34, '35': 35, '36': 36, '37': 37, '38': 38, '39': 39, '40': 40, '41': 41, '42': 42, '43': 43, '44': 44, '45': 45, '46': 46, '47': 47, '48': 48, '49': 49, '50': 50, '51': 51, '52': 52, '53': 53, '54': 54, '55': 55, '56': 56, '57': 57, '58': 58, '59': 59, '60': 60, '61': 61, '62': 62, '63': 63, '64': 64, '65': 65, '66': 66, '67': 67, '68': 68, '69': 69, '70': 70, '71': 71, '72': 72, '73': 73, '74': 74, '75': 75, '76': 76, '77': 77, '78': 78, '79': 79, '80': 80, '81': 81, '82': 82, '83': 83, '84': 84, '85': 85, '86': 86, '87': 87, '88': 88, '89': 89, '90': 90, '91': 91, '92': 92, '93': 93, '94': 94, '95': 95, '96': 96, '97': 97, '98': 98, '99': 99}\n"
          ]
        }
      ],
      "source": [
        "print(train_dataset.class_to_idx)"
      ]
    },
    {
      "cell_type": "code",
      "execution_count": 11,
      "metadata": {
        "colab": {
          "base_uri": "https://localhost:8080/"
        },
        "id": "V5wTSId3Ifcp",
        "outputId": "c4f685eb-c272-4d17-b187-db96d8ebd3b6"
      },
      "outputs": [
        {
          "name": "stderr",
          "output_type": "stream",
          "text": [
            "/usr/local/lib/python3.11/dist-packages/torchvision/models/_utils.py:208: UserWarning: The parameter 'pretrained' is deprecated since 0.13 and may be removed in the future, please use 'weights' instead.\n",
            "  warnings.warn(\n",
            "/usr/local/lib/python3.11/dist-packages/torchvision/models/_utils.py:223: UserWarning: Arguments other than a weight enum or `None` for 'weights' are deprecated since 0.13 and may be removed in the future. The current behavior is equivalent to passing `weights=ResNet50_Weights.IMAGENET1K_V1`. You can also use `weights=ResNet50_Weights.DEFAULT` to get the most up-to-date weights.\n",
            "  warnings.warn(msg)\n"
          ]
        }
      ],
      "source": [
        "model = models.resnet50(pretrained=True)\n",
        "model = nn.Sequential(*list(model.children())[:-2])\n",
        "\n",
        "# Custom Classifier added\n",
        "class CustomClassifier(nn.Module):\n",
        "    def __init__(self, backbone, num_classes=100):\n",
        "        super(CustomClassifier, self).__init__()\n",
        "        self.backbone = backbone\n",
        "        self.pool = nn.AdaptiveAvgPool2d((1, 1))\n",
        "        self.fc = nn.Sequential(\n",
        "            nn.Linear(2048, 512),\n",
        "            nn.BatchNorm1d(512),\n",
        "            nn.ReLU(),\n",
        "            nn.Dropout(0.5),\n",
        "            nn.Linear(512, num_classes)\n",
        "        )\n",
        "\n",
        "    def forward(self, x):\n",
        "        x = self.backbone(x)\n",
        "        x = self.pool(x)\n",
        "        x = torch.flatten(x, 1)\n",
        "        x = self.fc(x)\n",
        "        return x\n",
        "\n",
        "model = CustomClassifier(model, num_classes=100).to(device)\n",
        "device = torch.device(\"cuda\" if torch.cuda.is_available() else \"cpu\")\n",
        "model = model.to(device)"
      ]
    },
    {
      "cell_type": "code",
      "execution_count": 12,
      "metadata": {
        "colab": {
          "base_uri": "https://localhost:8080/"
        },
        "id": "H_GxDoaW3M4F",
        "outputId": "6c9ffdd6-69a3-443f-cf0c-3d56dcc4df9d"
      },
      "outputs": [
        {
          "name": "stdout",
          "output_type": "stream",
          "text": [
            "Tue Mar 25 06:02:53 2025       \n",
            "+-----------------------------------------------------------------------------------------+\n",
            "| NVIDIA-SMI 550.54.15              Driver Version: 550.54.15      CUDA Version: 12.4     |\n",
            "|-----------------------------------------+------------------------+----------------------+\n",
            "| GPU  Name                 Persistence-M | Bus-Id          Disp.A | Volatile Uncorr. ECC |\n",
            "| Fan  Temp   Perf          Pwr:Usage/Cap |           Memory-Usage | GPU-Util  Compute M. |\n",
            "|                                         |                        |               MIG M. |\n",
            "|=========================================+========================+======================|\n",
            "|   0  NVIDIA A100-SXM4-40GB          Off |   00000000:00:04.0 Off |                    0 |\n",
            "| N/A   33C    P0             52W /  400W |     541MiB /  40960MiB |      0%      Default |\n",
            "|                                         |                        |             Disabled |\n",
            "+-----------------------------------------+------------------------+----------------------+\n",
            "                                                                                         \n",
            "+-----------------------------------------------------------------------------------------+\n",
            "| Processes:                                                                              |\n",
            "|  GPU   GI   CI        PID   Type   Process name                              GPU Memory |\n",
            "|        ID   ID                                                               Usage      |\n",
            "|=========================================================================================|\n",
            "+-----------------------------------------------------------------------------------------+\n"
          ]
        }
      ],
      "source": [
        "gpu_info = !nvidia-smi\n",
        "gpu_info = '\\n'.join(gpu_info)\n",
        "if gpu_info.find('failed') >= 0:\n",
        "  print('Not connected to a GPU')\n",
        "else:\n",
        "  print(gpu_info)"
      ]
    },
    {
      "cell_type": "code",
      "execution_count": 13,
      "metadata": {
        "id": "IDUGhlgT3aWC"
      },
      "outputs": [],
      "source": [
        "optimizer = optim.AdamW(model.parameters(), lr=5e-4, weight_decay=1e-4)\n",
        "scheduler = torch.optim.lr_scheduler.CosineAnnealingWarmRestarts(optimizer, T_0=5, T_mult=2)\n",
        "criterion = nn.CrossEntropyLoss(label_smoothing=0.1)"
      ]
    },
    {
      "cell_type": "code",
      "execution_count": 14,
      "metadata": {
        "colab": {
          "base_uri": "https://localhost:8080/"
        },
        "id": "Zhcwdy-3bQRd",
        "outputId": "2165635b-3403-4148-d194-6e4ee5efc9b8"
      },
      "outputs": [
        {
          "name": "stdout",
          "output_type": "stream",
          "text": [
            "Epoch 1/15\n"
          ]
        },
        {
          "name": "stderr",
          "output_type": "stream",
          "text": [
            "/usr/local/lib/python3.11/dist-packages/torch/optim/lr_scheduler.py:62: UserWarning: The verbose parameter is deprecated. Please use get_last_lr() to access the learning rate.\n",
            "  warnings.warn(\n"
          ]
        },
        {
          "name": "stdout",
          "output_type": "stream",
          "text": [
            "Train Loss: 2.9197, Train Acc: 39.03% | Val Loss: 2.9843, Val Acc: 32.00%\n",
            "Epoch 2/15\n",
            "Train Loss: 2.0907, Train Acc: 61.40% | Val Loss: 2.4166, Val Acc: 46.67%\n",
            "Epoch 3/15\n",
            "Train Loss: 1.6351, Train Acc: 76.19% | Val Loss: 1.8837, Val Acc: 66.00%\n",
            "Epoch 4/15\n",
            "Train Loss: 1.8818, Train Acc: 68.20% | Val Loss: 2.2831, Val Acc: 55.00%\n",
            "Epoch 5/15\n",
            "Train Loss: 1.7010, Train Acc: 74.44% | Val Loss: 2.1032, Val Acc: 61.00%\n",
            "Epoch 6/15\n",
            "Train Loss: 1.4927, Train Acc: 81.03% | Val Loss: 2.1094, Val Acc: 59.67%\n",
            "Epoch 7/15\n",
            "Train Loss: 1.4736, Train Acc: 81.88% | Val Loss: 1.7209, Val Acc: 72.67%\n",
            "Epoch 8/15\n",
            "Train Loss: 1.2025, Train Acc: 90.72% | Val Loss: 1.5712, Val Acc: 76.67%\n",
            "Epoch 9/15\n",
            "Train Loss: 1.1076, Train Acc: 93.91% | Val Loss: 1.5857, Val Acc: 76.67%\n",
            "Epoch 10/15\n",
            "Train Loss: 1.4902, Train Acc: 80.78% | Val Loss: 1.9410, Val Acc: 67.00%\n",
            "Epoch 11/15\n",
            "Train Loss: 1.3759, Train Acc: 84.83% | Val Loss: 2.0540, Val Acc: 64.33%\n",
            "Epoch 12/15\n",
            "Train Loss: 1.5522, Train Acc: 79.07% | Val Loss: 1.8391, Val Acc: 67.67%\n",
            "Epoch 13/15\n",
            "Train Loss: 1.2169, Train Acc: 89.92% | Val Loss: 1.6388, Val Acc: 75.67%\n",
            "Epoch 14/15\n",
            "Train Loss: 1.1504, Train Acc: 92.14% | Val Loss: 1.7304, Val Acc: 71.33%\n",
            "Epoch 15/15\n",
            "Train Loss: 1.1138, Train Acc: 93.30% | Val Loss: 1.6185, Val Acc: 76.67%\n"
          ]
        }
      ],
      "source": [
        "epochs = 15\n",
        "train_losses = []\n",
        "val_accuracies = []\n",
        "\n",
        "#Train\n",
        "def train(model, train_loader, val_loader, criterion, optimizer, scheduler, epochs=epochs):\n",
        "\n",
        "    for epoch in range(epochs):\n",
        "        model.train()\n",
        "        train_loss = 0.0\n",
        "        train_correct = 0\n",
        "        total_train = 0\n",
        "\n",
        "        print(f\"Epoch {epoch+1}/{epochs}\")\n",
        "        for imgs, labels in train_loader:\n",
        "            imgs, labels = imgs.to(device), labels.to(device)\n",
        "\n",
        "            optimizer.zero_grad()\n",
        "            outputs = model(imgs)\n",
        "            loss = criterion(outputs, labels)\n",
        "            loss.backward()\n",
        "            optimizer.step()\n",
        "\n",
        "            train_loss += loss.item()\n",
        "            _, preds = torch.max(outputs, 1)\n",
        "            train_correct += torch.sum(preds == labels).item()\n",
        "            total_train += labels.size(0)\n",
        "\n",
        "        train_accuracy = 100 * train_correct / total_train\n",
        "        train_loss /= len(train_loader)\n",
        "        train_losses.append(train_loss / len(train_loader))\n",
        "\n",
        "        # Validation\n",
        "        model.eval()\n",
        "        val_correct = 0\n",
        "        val_loss = 0.0\n",
        "        total_val = 0\n",
        "\n",
        "        with torch.no_grad():\n",
        "            for imgs, labels in val_loader:\n",
        "                imgs, labels = imgs.to(device), labels.to(device)\n",
        "                outputs = model(imgs)\n",
        "                loss = criterion(outputs, labels)\n",
        "\n",
        "                val_loss += loss.item()\n",
        "                _, preds = torch.max(outputs, 1)\n",
        "                val_correct += torch.sum(preds == labels).item()\n",
        "                total_val += labels.size(0)\n",
        "\n",
        "        val_accuracy = 100 * val_correct / total_val\n",
        "        val_loss /= len(val_loader)\n",
        "        val_accuracies.append(val_accuracy)\n",
        "\n",
        "        print(f\"Train Loss: {train_loss:.4f}, Train Acc: {train_accuracy:.2f}% | Val Loss: {val_loss:.4f}, Val Acc: {val_accuracy:.2f}%\")\n",
        "\n",
        "        scheduler.step()\n",
        "\n",
        "        torch.save(model.state_dict(), f\"model_epoch_{epoch+1}.pth\")\n",
        "\n",
        "train(model, train_loader, val_loader, criterion, optimizer, scheduler, epochs=epochs)"
      ]
    },
    {
      "cell_type": "code",
      "execution_count": 15,
      "metadata": {
        "colab": {
          "base_uri": "https://localhost:8080/"
        },
        "id": "I_H75rGRfOnP",
        "outputId": "a747a14f-9d1b-4afc-bf29-436b5cc778be"
      },
      "outputs": [
        {
          "data": {
            "text/plain": [
              "24609444"
            ]
          },
          "execution_count": 15,
          "metadata": {},
          "output_type": "execute_result"
        }
      ],
      "source": [
        "# Calculate number of parameters\n",
        "sum(p.numel() for p in model.parameters())"
      ]
    },
    {
      "cell_type": "code",
      "execution_count": 16,
      "metadata": {
        "colab": {
          "base_uri": "https://localhost:8080/"
        },
        "id": "B6d34x6OG-Ky",
        "outputId": "c47456c9-f0c2-495f-c900-10e119dbc4de"
      },
      "outputs": [
        {
          "name": "stdout",
          "output_type": "stream",
          "text": [
            "✅ Predictions saved to prediction.csv\n"
          ]
        }
      ],
      "source": [
        "# Load saved model for prediction\n",
        "model.load_state_dict(torch.load(\"model_epoch_15.pth\", map_location=device), strict=False)\n",
        "model.eval()"
      ]
    },
    {
      "cell_type": "code",
      "execution_count": null,
      "metadata": {
        "id": "VkenfJMM_k2P"
      },
      "outputs": [],
      "source": [
        "# Test transformation\n",
        "test_transform = transforms.Compose([\n",
        "    transforms.Resize(256),\n",
        "    transforms.CenterCrop((256, 256)),\n",
        "    transforms.ToTensor(),\n",
        "    transforms.Normalize(mean=[0.5, 0.5, 0.5], std=[0.5, 0.5, 0.5]),\n",
        "])\n",
        "\n",
        "test_dir = f\"{data_dir}/test\"\n",
        "test_images = [img for img in os.listdir(test_dir) if img.endswith(('.png', '.jpg', '.jpeg'))]\n",
        "\n",
        "test_data = [Image.open(os.path.join(test_dir, img_name)).convert(\"RGB\") for img_name in test_images]"
      ]
    },
    {
      "cell_type": "code",
      "execution_count": null,
      "metadata": {
        "id": "IXWb3_9J_U6L"
      },
      "outputs": [],
      "source": [
        "# Predict the class for test images\n",
        "predictions = []\n",
        "\n",
        "for img_name, img in zip(test_images, test_data):\n",
        "    img = test_transform(img).unsqueeze(0).to(device)\n",
        "\n",
        "    with torch.no_grad():\n",
        "        output = model(img)\n",
        "        _, pred = torch.max(output, 1)\n",
        "\n",
        "    pred_label = train_dataset.classes[pred.item()]\n",
        "    predictions.append((img_name, pred_label))"
      ]
    },
    {
      "cell_type": "code",
      "execution_count": null,
      "metadata": {
        "id": "gAFbYJ_H_XQZ"
      },
      "outputs": [],
      "source": [
        "# Save predictions to prediction.csv\n",
        "submission_file = \"prediction.csv\"\n",
        "with open(submission_file, 'w') as f:\n",
        "    f.write('image_name,pred_label\\n')\n",
        "    for img_id, pred in predictions:\n",
        "        img_id_without_extension = os.path.splitext(img_id)[0]\n",
        "        f.write(f\"{img_id_without_extension},{pred}\\n\")\n",
        "\n",
        "print(f\"Prediction file saved to {submission_file}\")"
      ]
    },
    {
      "cell_type": "code",
      "execution_count": 17,
      "metadata": {
        "colab": {
          "base_uri": "https://localhost:8080/",
          "height": 487
        },
        "id": "MbK8VWsXYYvY",
        "outputId": "52e8c973-581c-4342-f1eb-cfef3bd847be"
      },
      "outputs": [
        {
          "data": {
            "image/png": "[encoded data removed]",
            "text/plain": [
              "<Figure size 1000x500 with 1 Axes>"
            ]
          },
          "metadata": {},
          "output_type": "display_data"
        }
      ],
      "source": [
        "# Training loss plot\n",
        "plt.figure(figsize=(10,5))\n",
        "plt.plot(range(1, epochs+1), train_losses, marker='o', label=\"Train Loss\")\n",
        "plt.xlabel(\"Epochs\")\n",
        "plt.ylabel(\"Loss\")\n",
        "plt.title(\"Training Loss Curve\")\n",
        "plt.legend()\n",
        "plt.savefig(\"training_loss.png\")\n",
        "plt.show()"
      ]
    },
    {
      "cell_type": "code",
      "execution_count": 18,
      "metadata": {
        "colab": {
          "base_uri": "https://localhost:8080/",
          "height": 487
        },
        "id": "m-B_GnkUvHI0",
        "outputId": "3eb463af-0b74-44b1-ba43-6cfac76e1d9e"
      },
      "outputs": [
        {
          "data": {
            "image/png": "[encoded data removed]",
            "text/plain": [
              "<Figure size 1000x500 with 1 Axes>"
            ]
          },
          "metadata": {},
          "output_type": "display_data"
        }
      ],
      "source": [
        "# Validation accuracy plot\n",
        "plt.figure(figsize=(10,5))\n",
        "plt.plot(range(1, epochs+1), val_accuracies, marker='o', label=\"Validation Accuracy\")\n",
        "plt.xlabel(\"Epochs\")\n",
        "plt.ylabel(\"Accuracy (%)\")\n",
        "plt.title(\"Validation Accuracy Curve\")\n",
        "plt.legend()\n",
        "plt.savefig(\"validation_accuracy.png\")\n",
        "plt.show()"
      ]
    },
    {
      "cell_type": "code",
      "execution_count": null,
      "metadata": {
        "id": "qUziFCm5lK0j"
      },
      "outputs": [],
      "source": []
    }
  ],
  "metadata": {
    "accelerator": "GPU",
    "colab": {
      "gpuType": "A100",
      "machine_shape": "hm",
      "provenance": []
    },
    "kernelspec": {
      "display_name": "Python 3",
      "name": "python3"
    },
    "language_info": {
      "name": "python"
    }
  },
  "nbformat": 4,
  "nbformat_minor": 0
}
